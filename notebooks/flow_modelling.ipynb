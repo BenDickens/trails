{
 "cells": [
  {
   "cell_type": "markdown",
   "metadata": {},
   "source": [
    "### Load packages"
   ]
  },
  {
   "cell_type": "code",
   "execution_count": 1,
   "metadata": {},
   "outputs": [],
   "source": [
    "%matplotlib inline\n",
    "import os,sys\n",
    "import numpy as np\n",
    "import pandas as pd\n",
    "import geopandas as gpd\n",
    "import matplotlib.pyplot as plt\n",
    "\n",
    "from tqdm import tqdm\n",
    "import igraph as ig\n",
    "import contextily as ctx\n",
    "from rasterstats import zonal_stats\n",
    "import time\n",
    "import pylab as pl\n",
    "from IPython import display\n",
    "import seaborn as sns\n",
    "import subprocess\n",
    "\n",
    "from shapely.wkb import loads\n",
    "\n",
    "data_path = os.path.join('..','data')\n",
    "\n",
    "# path to python scripts\n",
    "sys.path.append(os.path.join('..','src','trails'))\n",
    "\n",
    "from flow_model import *\n",
    "from simplify import *\n",
    "from extract import railway,ferries,mainRoads,roads\n",
    "\n",
    "\n",
    "pd.options.mode.chained_assignment = None  "
   ]
  },
  {
   "cell_type": "code",
   "execution_count": 2,
   "metadata": {},
   "outputs": [],
   "source": [
    "#comtrade_stats = pd.read_csv(os.path.join(data_path,'comtrade.csv'))\n",
    "#comtrade_stats = comtrade_stats.loc[comtrade_stats['Netweight (kg)'] > 0].reset_index(drop=True)\n",
    "#comtrade_stats['avg_kg_value'] = comtrade_stats['Trade Value (US$)']/comtrade_stats['Netweight (kg)']"
   ]
  },
  {
   "cell_type": "code",
   "execution_count": 3,
   "metadata": {},
   "outputs": [],
   "source": [
    "country = 'FJI'"
   ]
  },
  {
   "cell_type": "code",
   "execution_count": 55,
   "metadata": {},
   "outputs": [],
   "source": [
    "def create_graph(gdf_roads):\n",
    "    \"\"\"[summary]\n",
    "\n",
    "    Args:\n",
    "        gdf_roads ([type]): [description]\n",
    "\n",
    "    Returns:\n",
    "        [type]: [description]\n",
    "    \"\"\"    \n",
    "    gdf_in = gdf_roads.reindex(['from_id','to_id'] + [x for x in list(gdf_roads.columns) if x not in ['from_id','to_id']],axis=1)\n",
    "\n",
    "    g = ig.Graph.TupleList(gdf_in.itertuples(index=False), edge_attrs=list(gdf_in.columns)[2:],directed=True)\n",
    "    sg = g.clusters().giant()\n",
    "\n",
    "    gdf_in.set_index('id',inplace=True)\n",
    "    \n",
    "    return sg,gdf_in"
   ]
  },
  {
   "cell_type": "code",
   "execution_count": 67,
   "metadata": {},
   "outputs": [
    {
     "name": "stdout",
     "output_type": "stream",
     "text": [
      "query is finished, lets start the loop\n"
     ]
    },
    {
     "name": "stderr",
     "output_type": "stream",
     "text": [
      "100%|████████████████████████████████████████████████████████████████████████████| 1541/1541 [00:00<00:00, 2717.79it/s]\n",
      "split: 100%|██████████████████████████████████████████████████████████████████████| 1509/1509 [00:04<00:00, 340.94it/s]\n",
      "endpoints: 100%|████████████████████████████████████████████████████████████████| 1654/1654 [00:00<00:00, 28512.28it/s]\n",
      "topology: 100%|██████████████████████████████████████████████████████████████████| 1654/1654 [00:00<00:00, 2339.53it/s]\n"
     ]
    },
    {
     "name": "stdout",
     "output_type": "stream",
     "text": [
      "0  Edges not connected to nodes\n",
      "NOTE: Network created\n"
     ]
    }
   ],
   "source": [
    "osm_path = os.path.join(r'C:\\Data\\country_osm','{}.osm.pbf'.format(country))\n",
    "\n",
    "transport_network = load_network(osm_path)\n",
    "print('NOTE: Network created')\n",
    "\n",
    "gdf_roads = prepare_network_routing(transport_network)\n",
    "sg = create_graph(gdf_roads)[0]\n",
    "main_graph = pd.DataFrame(list(sg.es['geometry']),columns=['geometry'])\n",
    "main_network = pd.DataFrame([list(sg.es[x]) for x in sg.es.attribute_names()]).T\n",
    "main_network.columns = sg.es.attribute_names()\n",
    "\n",
    "data_path = os.path.join('..','Data')"
   ]
  },
  {
   "cell_type": "code",
   "execution_count": 68,
   "metadata": {},
   "outputs": [],
   "source": [
    "def country_grid_gdp_filled(trans_network,country,data_path,rough_grid_split=100,from_main_graph=False):\n",
    "    \"\"\"[summary]\n",
    "\n",
    "    Args:\n",
    "        trans_network ([type]): [description]\n",
    "        rough_grid_split (int, optional): [description]. Defaults to 100.\n",
    "\n",
    "    Returns:\n",
    "        [type]: [description]\n",
    "    \"\"\"    \n",
    "    if from_main_graph==True:\n",
    "        node_df = trans_network.copy()\n",
    "        envelop = pygeos.envelope(pygeos.multilinestrings(node_df.geometry.values))\n",
    "        height = np.sqrt(pygeos.area(envelop)/rough_grid_split)        \n",
    "    else:\n",
    "        node_df = trans_network.copy()\n",
    "        node_df.geometry,approximate_crs = convert_crs(node_df)\n",
    "        envelop = pygeos.envelope(pygeos.multilinestrings(node_df.geometry.values))\n",
    "        height = np.sqrt(pygeos.area(envelop)/rough_grid_split)    \n",
    "\n",
    "    gdf_admin = pd.DataFrame(create_grid(create_bbox(node_df),height),columns=['geometry'])\n",
    "   \n",
    "     #load data and convert to pygeos\n",
    "    country_shape = gpd.read_file(os.path.join(data_path,'GADM','gadm36_levels.gpkg'),layer=0)\n",
    "    country_shape = pd.DataFrame(country_shape.loc[country_shape.GID_0==country])\n",
    "    country_shape.geometry = pygeos.from_shapely(country_shape.geometry)\n",
    "\n",
    "    gdf_admin = pygeos.intersection(gdf_admin,country_shape.geometry)\n",
    "    gdf_admin = gdf_admin.loc[~pygeos.is_empty(gdf_admin.geometry)]\n",
    "      \n",
    "    gdf_admin['centroid'] = pygeos.centroid(gdf_admin.geometry)\n",
    "    gdf_admin['km2'] = area(gdf_admin)\n",
    "    gdf_admin['gdp'] = get_gdp_values(gdf_admin,data_path)\n",
    "    gdf_admin = gdf_admin.loc[gdf_admin.gdp > 0].reset_index()\n",
    "    gdf_admin['gdp_area'] = gdf_admin.gdp/gdf_admin['km2']\n",
    "\n",
    "    return gdf_admin\n"
   ]
  },
  {
   "cell_type": "code",
   "execution_count": 72,
   "metadata": {},
   "outputs": [
    {
     "name": "stdout",
     "output_type": "stream",
     "text": [
      "NOTE: GDP values extracted\n",
      "NOTE: OD created\n"
     ]
    }
   ],
   "source": [
    "gdf_admin = country_grid_gdp_filled(main_graph,country,data_path,rough_grid_split=100,from_main_graph=True)\n",
    "\n",
    "print('NOTE: GDP values extracted')\n",
    "\n",
    "OD,OD_dict,sectors,gdf_admin = create_OD(gdf_admin,country,data_path)\n",
    "print('NOTE: OD created')"
   ]
  },
  {
   "cell_type": "code",
   "execution_count": 73,
   "metadata": {},
   "outputs": [],
   "source": [
    "def run_flow_analysis(country,transport_network,gdf_admin,OD_dict,notebook=False):\n",
    "    \"\"\"[summary]\n",
    "\n",
    "    Args:\n",
    "        transport_network ([type]): [description]\n",
    "        gdf_admin ([type]): [description]\n",
    "\n",
    "    Returns:\n",
    "        [type]: [description]\n",
    "    \"\"\"    \n",
    "    plt.rcParams['figure.figsize'] = [5, 5]\n",
    "\n",
    "    gdf_roads = prepare_network_routing(transport_network)\n",
    "    sg,gdf_in = create_graph(gdf_roads)\n",
    "        \n",
    "    nearest_node = nearest_network_node_list(gdf_admin,transport_network.nodes,sg)\n",
    "    dest_nodes = [sg.vs['name'].index(nearest_node[x]) for x in list(nearest_node.keys())]\n",
    "\n",
    "    # this is where the iterations goes\n",
    "    iterator = 0\n",
    "    optimal = False\n",
    "    max_iter = 100\n",
    "    save_fits = []\n",
    "\n",
    "    if not notebook:\n",
    "        plt.ion() ## Note this correction\n",
    "\n",
    "    while optimal == False:\n",
    "        sg.es['GC'] = [(lambda segment: update_gc_function(segment))(segment) for segment in list(sg.es)]\n",
    "        sg.es['flow'] = 0\n",
    "        for admin_orig in (list(gdf_admin.name)):\n",
    "            paths = sg.get_shortest_paths(sg.vs[sg.vs['name'].index(nearest_node[admin_orig])],dest_nodes,weights='GC',output=\"epath\")\n",
    "            for path,admin_dest in zip(paths,list(gdf_admin.name)):\n",
    "                flow_value = OD_dict[(admin_orig,admin_dest)]\n",
    "                sg.es[path]['flow'] = [x + flow_value for x in sg.es[path]['flow']] \n",
    "\n",
    "        fitting_edges = (sum([x<y for x,y in zip(sg.es['flow'],sg.es['max_flow'])])/len(sg.es))\n",
    "        save_fits.append(fitting_edges)\n",
    "        if (sum([x<y for x,y in zip(sg.es['flow'],sg.es['max_flow'])])/len(sg.es)) > 0.99:\n",
    "            optimal = True\n",
    "        iterator += 1\n",
    "\n",
    "        if notebook:\n",
    "            pl.plot(save_fits) \n",
    "            display.display(pl.gcf())\n",
    "            display.clear_output(wait=True) \n",
    "        else:\n",
    "            plt.plot(save_fits) \n",
    "            plt.xlabel('# iteration')\n",
    "            plt.ylabel('Share of edges below maximum flow')\n",
    "            plt.show()\n",
    "            plt.pause(0.0001) #Note this correction\n",
    "\n",
    "        if iterator == max_iter:\n",
    "            break    \n",
    "            \n",
    "    plt.savefig(os.path.join(code_path,'..','..','figures','{}_flow_modelling.png'.format(country)))   \n",
    "    gdf_in['flow'] = pd.DataFrame(sg.es['flow'],columns=['flow'],index=sg.es['id'])\n",
    "    gdf_in['max_flow'] = pd.DataFrame(sg.es['max_flow'],columns=['max_flow'],index=sg.es['id'])\n",
    "    gdf_in['wait_time'] = pd.DataFrame(sg.es['wait_time'],columns=['wait_time'],index=sg.es['id'])\n",
    "    gdf_in['overflow'] = gdf_in['flow'].div(gdf_in['max_flow'])   \n",
    "    \n",
    "    return gdf_in"
   ]
  },
  {
   "cell_type": "code",
   "execution_count": 74,
   "metadata": {},
   "outputs": [
    {
     "data": {
      "image/png": "[encoded data removed]",
      "text/plain": [
       "<Figure size 360x360 with 1 Axes>"
      ]
     },
     "metadata": {
      "needs_background": "light"
     },
     "output_type": "display_data"
    },
    {
     "data": {
      "image/png": "[encoded data removed]",
      "text/plain": [
       "<Figure size 360x360 with 1 Axes>"
      ]
     },
     "metadata": {
      "needs_background": "light"
     },
     "output_type": "display_data"
    },
    {
     "name": "stdout",
     "output_type": "stream",
     "text": [
      "NOTE: Flow analysis finished\n"
     ]
    },
    {
     "data": {
      "text/plain": [
       "<Figure size 360x360 with 0 Axes>"
      ]
     },
     "metadata": {},
     "output_type": "display_data"
    }
   ],
   "source": [
    "gdf_out = run_flow_analysis(country,transport_network,gdf_admin,OD_dict)\n",
    "print('NOTE: Flow analysis finished')"
   ]
  },
  {
   "cell_type": "code",
   "execution_count": null,
   "metadata": {},
   "outputs": [],
   "source": []
  },
  {
   "cell_type": "code",
   "execution_count": 75,
   "metadata": {},
   "outputs": [],
   "source": [
    "#gdf_admin['geometry'] = gdf_admin.geometry.apply(lambda x: loads(pygeos.to_wkb(x)))\n",
    "gdf_out = gdf_out.loc[~gdf_out.max_flow.isna()].reset_index(drop=True)\n",
    "gdf_out_save = gdf_out.copy()\n",
    "gdf_out_save['geometry'] = gdf_out_save.geometry.apply(lambda x: loads(pygeos.to_wkb(x)))               \n",
    "\n",
    "gpd.GeoDataFrame(gdf_admin.drop('centroid',axis=1)).to_file(\n",
    "    os.path.join('..','data',\n",
    "    '{}.gpkg'.format(country)),layer='grid',driver='GPKG')\n",
    "gpd.GeoDataFrame(gdf_out_save).to_file(os.path.join('..','data',\n",
    "    '{}.gpkg'.format(country)),layer='network',driver='GPKG')"
   ]
  },
  {
   "cell_type": "code",
   "execution_count": null,
   "metadata": {},
   "outputs": [],
   "source": []
  }
 ],
 "metadata": {
  "kernelspec": {
   "display_name": "Python 3",
   "language": "python",
   "name": "python3"
  },
  "language_info": {
   "codemirror_mode": {
    "name": "ipython",
    "version": 3
   },
   "file_extension": ".py",
   "mimetype": "text/x-python",
   "name": "python",
   "nbconvert_exporter": "python",
   "pygments_lexer": "ipython3",
   "version": "3.8.5"
  }
 },
 "nbformat": 4,
 "nbformat_minor": 4
}
