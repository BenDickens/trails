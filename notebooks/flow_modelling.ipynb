{
 "cells": [
  {
   "cell_type": "markdown",
   "metadata": {},
   "source": [
    "### Load packages"
   ]
  },
  {
   "cell_type": "code",
   "execution_count": 1,
   "metadata": {},
   "outputs": [],
   "source": [
    "%matplotlib inline\n",
    "import os,sys\n",
    "import numpy as np\n",
    "import pandas as pd\n",
    "import geopandas as gpd\n",
    "import matplotlib.pyplot as plt\n",
    "\n",
    "from tqdm import tqdm\n",
    "import igraph as ig\n",
    "import contextily as ctx\n",
    "from rasterstats import zonal_stats\n",
    "import time\n",
    "import pylab as pl\n",
    "from IPython import display\n",
    "import seaborn as sns\n",
    "import subprocess\n",
    "\n",
    "from shapely.wkb import loads\n",
    "\n",
    "data_path = os.path.join('..','data')\n",
    "\n",
    "# path to python scripts\n",
    "sys.path.append(os.path.join('..','src','trails'))\n",
    "\n",
    "from flow_model import *\n",
    "from simplify import *\n",
    "from extract import railway,ferries,mainRoads,roads\n",
    "\n",
    "\n",
    "pd.options.mode.chained_assignment = None  "
   ]
  },
  {
   "cell_type": "code",
   "execution_count": 2,
   "metadata": {},
   "outputs": [],
   "source": [
    "#comtrade_stats = pd.read_csv(os.path.join(data_path,'comtrade.csv'))\n",
    "#comtrade_stats = comtrade_stats.loc[comtrade_stats['Netweight (kg)'] > 0].reset_index(drop=True)\n",
    "#comtrade_stats['avg_kg_value'] = comtrade_stats['Trade Value (US$)']/comtrade_stats['Netweight (kg)']"
   ]
  },
  {
   "cell_type": "code",
   "execution_count": 3,
   "metadata": {},
   "outputs": [],
   "source": [
    "country = 'FJI'"
   ]
  },
  {
   "cell_type": "code",
   "execution_count": 4,
   "metadata": {},
   "outputs": [
    {
     "name": "stdout",
     "output_type": "stream",
     "text": [
      "query is finished, lets start the loop\n"
     ]
    },
    {
     "name": "stderr",
     "output_type": "stream",
     "text": [
      "100%|████████████████████████████████████████████████████████████████████████████| 1541/1541 [00:00<00:00, 1940.80it/s]\n",
      "split: 100%|██████████████████████████████████████████████████████████████████████| 1509/1509 [00:05<00:00, 254.92it/s]\n",
      "endpoints: 100%|████████████████████████████████████████████████████████████████| 1654/1654 [00:00<00:00, 24689.59it/s]\n",
      "topology: 100%|██████████████████████████████████████████████████████████████████| 1654/1654 [00:00<00:00, 1710.43it/s]\n"
     ]
    },
    {
     "name": "stdout",
     "output_type": "stream",
     "text": [
      "0  Edges not connected to nodes\n",
      "NOTE: Network created\n"
     ]
    }
   ],
   "source": [
    "osm_path = os.path.join(r'C:\\Data\\country_osm','{}.osm.pbf'.format(country))\n",
    "\n",
    "transport_network = load_network(osm_path)\n",
    "print('NOTE: Network created')\n",
    "\n",
    "sg = create_graph(transport_network.edges)[0]\n",
    "main_graph = pd.DataFrame(list(sg.es['geometry']),columns=['geometry'])\n",
    "main_network = pd.DataFrame([list(sg.es[x]) for x in sg.es.attribute_names()]).T\n",
    "main_network.columns = sg.es.attribute_names()\n",
    "\n",
    "data_path = \"C:\\Data\""
   ]
  },
  {
   "cell_type": "code",
   "execution_count": 9,
   "metadata": {},
   "outputs": [
    {
     "name": "stdout",
     "output_type": "stream",
     "text": [
      "NOTE: Flow analysis finished\n"
     ]
    },
    {
     "data": {
      "image/png": "[encoded data removed]",
      "text/plain": [
       "<Figure size 360x360 with 1 Axes>"
      ]
     },
     "metadata": {
      "needs_background": "light"
     },
     "output_type": "display_data"
    }
   ],
   "source": [
    "gdf_admin = country_grid_gdp_filled(main_graph,country,data_path,rough_grid_split=50,from_main_graph=True)\n",
    "\n",
    "print('NOTE: GDP values extracted')\n",
    "\n",
    "OD,OD_dict,sectors,gdf_admin = create_OD(gdf_admin,country,data_path)\n",
    "print('NOTE: OD created')\n",
    "\n",
    "gdf_out = run_flow_analysis(country,transport_network,gdf_admin,OD_dict,notebook=True)\n",
    "print('NOTE: Flow analysis finished')"
   ]
  },
  {
   "cell_type": "code",
   "execution_count": 6,
   "metadata": {},
   "outputs": [],
   "source": [
    "#gdf_admin['geometry'] = gdf_admin.geometry.apply(lambda x: loads(pygeos.to_wkb(x)))\n",
    "gdf_out = gdf_out.loc[~gdf_out.max_flow.isna()].reset_index(drop=True)\n",
    "gdf_out_save = gdf_out.copy()\n",
    "gdf_out_save['geometry'] = gdf_out_save.geometry.apply(lambda x: loads(pygeos.to_wkb(x)))               \n",
    "\n",
    "gpd.GeoDataFrame(gdf_admin.drop('centroid',axis=1)).to_file(\n",
    "    os.path.join('..','data',\n",
    "    '{}.gpkg'.format(country)),layer='grid',driver='GPKG')\n",
    "gpd.GeoDataFrame(gdf_out_save).to_file(os.path.join('..','data',\n",
    "    '{}.gpkg'.format(country)),layer='network',driver='GPKG')"
   ]
  },
  {
   "cell_type": "code",
   "execution_count": 7,
   "metadata": {},
   "outputs": [],
   "source": [
    "def country_run(country,plot=True):\n",
    "    \"\"\"[summary]\n",
    "\n",
    "    Args:\n",
    "        country ([type]): [description]\n",
    "        plot (bool, optional): [description]. Defaults to True.\n",
    "    \"\"\"    \n",
    "    osm_path = os.path.join(r'C:\\Data\\OSM\\country_osm','{}.osm.pbf'.format(country))\n",
    "    \n",
    "    transport_network = load_network(osm_path)\n",
    "    print('NOTE: Network created')\n",
    "    \n",
    "    sg = create_graph(transport_network.edges)[0]\n",
    "    main_graph = pd.DataFrame(list(sg.es['geometry']),columns=['geometry'])\n",
    "    gdf_admin = country_grid_gdp_filled(main_graph,from_main_graph=True)\n",
    "\n",
    "    print('NOTE: GDP values extracted')\n",
    "\n",
    "    OD,OD_dict,sectors,gdf_admin = create_OD(gdf_admin,country)\n",
    "    print('NOTE: OD created')\n",
    "    \n",
    "    gdf_out = run_flow_analysis(transport_network,gdf_admin,OD_dict)\n",
    "    print('NOTE: Flow analysis finished')\n",
    "    \n",
    "    if plot:\n",
    "        plot_results(gdf_out)    \n",
    "        \n",
    "    return gdf_out,gdf_admin"
   ]
  },
  {
   "cell_type": "code",
   "execution_count": null,
   "metadata": {},
   "outputs": [],
   "source": [
    "gdf_out,gdf_admin = country_run(country,plot=False)"
   ]
  },
  {
   "cell_type": "code",
   "execution_count": null,
   "metadata": {},
   "outputs": [],
   "source": []
  }
 ],
 "metadata": {
  "kernelspec": {
   "display_name": "Python 3",
   "language": "python",
   "name": "python3"
  },
  "language_info": {
   "codemirror_mode": {
    "name": "ipython",
    "version": 3
   },
   "file_extension": ".py",
   "mimetype": "text/x-python",
   "name": "python",
   "nbconvert_exporter": "python",
   "pygments_lexer": "ipython3",
   "version": "3.8.5"
  }
 },
 "nbformat": 4,
 "nbformat_minor": 4
}
